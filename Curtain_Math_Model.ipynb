{
  "nbformat": 4,
  "nbformat_minor": 0,
  "metadata": {
    "colab": {
      "provenance": [],
      "collapsed_sections": [],
      "authorship_tag": "ABX9TyPGG1wMwxPx4Vh6HWbtYD9K",
      "include_colab_link": true
    },
    "kernelspec": {
      "name": "python3",
      "display_name": "Python 3"
    },
    "language_info": {
      "name": "python"
    }
  },
  "cells": [
    {
      "cell_type": "markdown",
      "metadata": {
        "id": "view-in-github",
        "colab_type": "text"
      },
      "source": [
        "<a href=\"https://colab.research.google.com/github/ardakayaa/3d_Curtain_Model/blob/main/Curtain_Math_Model.ipynb\" target=\"_parent\"><img src=\"https://colab.research.google.com/assets/colab-badge.svg\" alt=\"Open In Colab\"/></a>"
      ]
    },
    {
      "cell_type": "code",
      "execution_count": null,
      "metadata": {
        "colab": {
          "base_uri": "https://localhost:8080/"
        },
        "id": "UM_X0mpbwYIf",
        "outputId": "c3e71ca4-cce8-4aa8-c0c0-6b7052cc9049"
      },
      "outputs": [
        {
          "output_type": "stream",
          "name": "stdout",
          "text": [
            "Looking in indexes: https://pypi.org/simple, https://us-python.pkg.dev/colab-wheels/public/simple/\n",
            "Requirement already satisfied: requests in /usr/local/lib/python3.7/dist-packages (2.23.0)\n",
            "Requirement already satisfied: idna<3,>=2.5 in /usr/local/lib/python3.7/dist-packages (from requests) (2.10)\n",
            "Requirement already satisfied: chardet<4,>=3.0.2 in /usr/local/lib/python3.7/dist-packages (from requests) (3.0.4)\n",
            "Requirement already satisfied: urllib3!=1.25.0,!=1.25.1,<1.26,>=1.21.1 in /usr/local/lib/python3.7/dist-packages (from requests) (1.24.3)\n",
            "Requirement already satisfied: certifi>=2017.4.17 in /usr/local/lib/python3.7/dist-packages (from requests) (2022.9.24)\n"
          ]
        }
      ],
      "source": [
        "!pip install requests"
      ]
    },
    {
      "cell_type": "code",
      "source": [
        "import requests\n",
        "# Save datagenerators as file to colab working directory\n",
        "# If you are using GitHub, make sure you get the \"Raw\" version of the code\n",
        "url = 'https://raw.githubusercontent.com/reiniscimurs/Bezier-Curve/main/Bezier.py'\n",
        "r = requests.get(url)\n",
        "\n",
        "# make sure your filename is the same as how you want to import \n",
        "with open('Bezier.py', 'w') as f:\n",
        "    f.write(r.text)\n",
        "\n",
        "# now we can import\n",
        "import Bezier "
      ],
      "metadata": {
        "id": "gpcZPgBzws1y"
      },
      "execution_count": null,
      "outputs": []
    },
    {
      "cell_type": "code",
      "source": [
        "import random\n",
        "import matplotlib.pyplot as plt\n",
        "import math\n",
        "\n",
        "class Point(object):\n",
        "    def __init__(self, x=0, y=0):\n",
        "        self.x = x\n",
        "        self.y = y\n",
        "\n",
        "    def random(self, min= 0, max= 1):\n",
        "        self.x = random.uniform(min,max)\n",
        "        self.y = random.uniform(min,max)\n",
        "\n",
        "class CubicBezier(object):\n",
        "    def __init__(self, p0x= 0, p0y= 0, p1x= 0, p1y= 0, p2x= 0, p2y= 0, p3x= 0, p3y= 0):\n",
        "        self.p0 = Point(p0x, p0y)\n",
        "        self.p1 = Point(p1x, p1y)\n",
        "        self.p2 = Point(p2x, p2y)\n",
        "        self.p3 = Point(p3x, p3y)\n",
        "\n",
        "    def calc_curve(self, granuality=100):\n",
        "        'Calculate the cubic Bezier curve with the given granuality.'\n",
        "        B_x = []\n",
        "        B_y = []\n",
        "        for t in range(0, granuality):\n",
        "            t = t / granuality\n",
        "            x = ((1 - t) ** 3) * self.p0.x + 3 * ((1 - t) ** 2) * t * self.p1.x + 3 * (1 - t) * (t ** 2) * self.p2.x\\\n",
        "                + (t ** 3) * self.p3.x\n",
        "            y = ((1 - t) ** 3) * self.p0.y + 3 * ((1 - t) ** 2) * t * self.p1.y + 3 * (1 - t) * (t ** 2) * self.p2.y\\\n",
        "                + (t ** 3) * self.p3.y\n",
        "            B_x.append(x)\n",
        "            B_y.append(y)\n",
        "        return [B_x, B_y]\n",
        "\n",
        "    def plot(self, granuality=100):\n",
        "        'Plot the cubic Bezier curve.'\n",
        "        B = self.calc_curve(granuality)\n",
        "        plt.plot(B[0], B[1])\n",
        "        plt.scatter([self.p0.x,self.p1.x,self.p2.x,self.p3.x], [self.p0.y,self.p1.y,self.p2.y,self.p3.y])\n",
        "        plt.axis('equal')\n",
        "        plt.show()"
      ],
      "metadata": {
        "id": "PskT-0M4xo77"
      },
      "execution_count": null,
      "outputs": []
    },
    {
      "cell_type": "code",
      "source": [
        "curve = CubicBezier(p0x=-1, p0y=0, p1x=-0.5, p1y=0.5, p2x=0.5, p2y=-0.5, p3x=1, p3y=0)\n",
        "curve.plot()"
      ],
      "metadata": {
        "colab": {
          "base_uri": "https://localhost:8080/",
          "height": 265
        },
        "id": "gbq3kHjuxIjA",
        "outputId": "ec0e24e2-0103-4856-b41f-8c7a1bbc62d9"
      },
      "execution_count": null,
      "outputs": [
        {
          "output_type": "display_data",
          "data": {
            "text/plain": [
              "<Figure size 432x288 with 1 Axes>"
            ],
            "image/png": "[encoded data removed]"
          },
          "metadata": {
            "needs_background": "light"
          }
        }
      ]
    },
    {
      "cell_type": "code",
      "source": [
        "!pip install bezier"
      ],
      "metadata": {
        "colab": {
          "base_uri": "https://localhost:8080/"
        },
        "id": "-ZjbzI-A88R0",
        "outputId": "1ac2250d-d1ba-43f3-cbca-d29e243e5b6b"
      },
      "execution_count": null,
      "outputs": [
        {
          "output_type": "stream",
          "name": "stdout",
          "text": [
            "Looking in indexes: https://pypi.org/simple, https://us-python.pkg.dev/colab-wheels/public/simple/\n",
            "Collecting bezier\n",
            "  Downloading bezier-2021.2.12-cp37-cp37m-manylinux2010_x86_64.whl (1.4 MB)\n",
            "\u001b[K     |████████████████████████████████| 1.4 MB 5.2 MB/s \n",
            "\u001b[?25hRequirement already satisfied: numpy>=1.20.1 in /usr/local/lib/python3.7/dist-packages (from bezier) (1.21.6)\n",
            "Installing collected packages: bezier\n",
            "Successfully installed bezier-2021.2.12\n"
          ]
        }
      ]
    },
    {
      "cell_type": "code",
      "source": [
        "import bezier\n",
        "import numpy as np"
      ],
      "metadata": {
        "id": "QpgROTkGzn7i"
      },
      "execution_count": null,
      "outputs": []
    },
    {
      "cell_type": "code",
      "source": [
        "nodes = np.asfortranarray([\n",
        "    [0.0, 0.5, 1.0],\n",
        "    [1.0, 0.5, 1.0]\n",
        "])\n",
        "curve = bezier.Curve(nodes, degree=2)\n",
        "curve.plot(100)"
      ],
      "metadata": {
        "colab": {
          "base_uri": "https://localhost:8080/",
          "height": 282
        },
        "id": "t9fYdP2zxaKt",
        "outputId": "ebc00b12-5724-4fcd-daf1-e3489fa88627"
      },
      "execution_count": null,
      "outputs": [
        {
          "output_type": "execute_result",
          "data": {
            "text/plain": [
              "<matplotlib.axes._subplots.AxesSubplot at 0x7fb1bc85ebd0>"
            ]
          },
          "metadata": {},
          "execution_count": 43
        },
        {
          "output_type": "display_data",
          "data": {
            "text/plain": [
              "<Figure size 432x288 with 1 Axes>"
            ],
            "image/png": "[encoded data removed]"
          },
          "metadata": {
            "needs_background": "light"
          }
        }
      ]
    },
    {
      "cell_type": "code",
      "source": [
        "def interpolation(p1x,p1y,p2x,p2y, x):\n",
        "    output = p1y + (x - p1x) * ((p2y - p1y)/(p2x - p1x))\n",
        " \n",
        "    return output\n",
        "interpolation(0,1,1,2,0.0)"
      ],
      "metadata": {
        "id": "IZ-p9sVYFLZH",
        "colab": {
          "base_uri": "https://localhost:8080/"
        },
        "outputId": "cc154939-21ef-451d-d05f-f43036a0ad15"
      },
      "execution_count": 90,
      "outputs": [
        {
          "output_type": "execute_result",
          "data": {
            "text/plain": [
              "1.0"
            ]
          },
          "metadata": {},
          "execution_count": 90
        }
      ]
    },
    {
      "cell_type": "code",
      "source": [
        "def calc_curve(p1x,p1y,p2x,p2y, granuality=100):\n",
        "        'Calculate the cubic Bezier curve with the given granuality.'\n",
        "        B_x = []\n",
        "        B_y = []\n",
        "        for t in range(0, granuality):\n",
        "            t = t / granuality\n",
        "            #print(t)\n",
        "            x = interpolation(p1x,p1y,p2x,p2y,t)\n",
        "            #print(x)\n",
        "            B_x.append(x)\n",
        "        return B_x\n",
        "\n",
        "def plot(p1x,p1y,p2x,p2y,granuality=10):\n",
        "        'Plot the cubic Bezier curve.'\n",
        "        B = calc_curve(p1x,p1y,p2x,p2y,granuality)\n",
        "        plt.plot(B)\n",
        "        #plt.scatter([self.p0.x,self.p1.x,self.p2.x,self.p3.x], [self.p0.y,self.p1.y,self.p2.y,self.p3.y])\n",
        "        plt.axis('equal')\n",
        "        plt.show()\n"
      ],
      "metadata": {
        "id": "5PEPdOJuFMdC"
      },
      "execution_count": 102,
      "outputs": []
    },
    {
      "cell_type": "code",
      "source": [
        "plot(0,0,1,2)"
      ],
      "metadata": {
        "colab": {
          "base_uri": "https://localhost:8080/",
          "height": 265
        },
        "id": "j6Grqc5nHU7S",
        "outputId": "2a5d2a16-d987-4d8c-cf76-16b1d6858cf2"
      },
      "execution_count": 103,
      "outputs": [
        {
          "output_type": "display_data",
          "data": {
            "text/plain": [
              "<Figure size 432x288 with 1 Axes>"
            ],
            "image/png": "[encoded data removed]"
          },
          "metadata": {
            "needs_background": "light"
          }
        }
      ]
    },
    {
      "cell_type": "code",
      "source": [],
      "metadata": {
        "id": "IbamthYAH8cY"
      },
      "execution_count": null,
      "outputs": []
    }
  ]
}